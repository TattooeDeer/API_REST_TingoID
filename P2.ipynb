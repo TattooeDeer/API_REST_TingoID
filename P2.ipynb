{
  "nbformat": 4,
  "nbformat_minor": 0,
  "metadata": {
    "colab": {
      "name": "P2.ipynb",
      "version": "0.3.2",
      "provenance": [],
      "collapsed_sections": [],
      "toc_visible": true,
      "include_colab_link": true
    },
    "kernelspec": {
      "name": "python3",
      "display_name": "Python 3"
    },
    "accelerator": "GPU"
  },
  "cells": [
    {
      "cell_type": "markdown",
      "metadata": {
        "id": "view-in-github",
        "colab_type": "text"
      },
      "source": [
        "[View in Colaboratory](https://colab.research.google.com/github/TattooeDeer/API_REST_TingoID/blob/master/P2.ipynb)"
      ]
    },
    {
      "metadata": {
        "id": "jUgJ75rKw7GU",
        "colab_type": "code",
        "colab": {}
      },
      "cell_type": "code",
      "source": [
        ""
      ],
      "execution_count": 0,
      "outputs": []
    },
    {
      "metadata": {
        "id": "3C4LF4hgxDdg",
        "colab_type": "text"
      },
      "cell_type": "markdown",
      "source": [
        "# Pregunta 2\n"
      ]
    },
    {
      "metadata": {
        "id": "tYjI2RQPwnl4",
        "colab_type": "code",
        "colab": {
          "base_uri": "https://localhost:8080/",
          "height": 102
        },
        "outputId": "0ede427c-c02b-4899-fe86-356aff0ba294"
      },
      "cell_type": "code",
      "source": [
        "import nltk\n",
        "from nltk.tokenize import word_tokenize\n",
        "nltk.download('punkt')\n",
        "\n",
        "#!pip install gensim\n",
        "import gensim\n",
        "from gensim.utils import simple_preprocess\n",
        "from gensim.parsing.preprocessing import STOPWORDS\n",
        "from nltk.stem import WordNetLemmatizer, SnowballStemmer\n",
        "from nltk.stem.porter import *\n",
        "\n",
        "import numpy as np\n",
        "np.random.seed(11235813)\n",
        "import pandas as pd\n",
        "import matplotlib.pyplot as plt\n",
        "%matplotlib inline\n",
        "import seaborn as sn\n",
        "\n",
        "# Tensorflow & Keras imports\n",
        "import tensorflow as tf\n",
        "from keras.layers import Input, RepeatVector, TimeDistributed, Dense, Embedding, Flatten, Activation, Permute, Lambda\n",
        "from keras.models import Model\n",
        "from keras import backend as K\n",
        "from keras.preprocessing import sequence\n",
        "\n",
        "from google.colab import files\n",
        "#!git clone https://github.com/TattooeDeer/T3-ANN.git\n",
        "%cd T3-ANN\n",
        "!ls\n"
      ],
      "execution_count": 51,
      "outputs": [
        {
          "output_type": "stream",
          "text": [
            "[nltk_data] Downloading package punkt to /root/nltk_data...\n",
            "[nltk_data]   Package punkt is already up-to-date!\n",
            "[Errno 2] No such file or directory: 'T3-ANN'\n",
            "/content/T3-ANN\n",
            "Enunciado_T3.ipynb  LICENSE  README.md\tTarea3.ipynb  test_Q.csv  train_Q-A.csv\n"
          ],
          "name": "stdout"
        }
      ]
    },
    {
      "metadata": {
        "id": "VL42xkHl4Jjf",
        "colab_type": "text"
      },
      "cell_type": "markdown",
      "source": [
        "## a) Carga de los datos en el entorno y análisis descriptivo"
      ]
    },
    {
      "metadata": {
        "id": "LY_FvybPw37X",
        "colab_type": "code",
        "colab": {
          "base_uri": "https://localhost:8080/",
          "height": 51
        },
        "outputId": "879a0309-684d-4cbf-d379-a3c250e36cb0"
      },
      "cell_type": "code",
      "source": [
        "train = pd.read_csv('train_Q-A.csv')\n",
        "test = pd.read_csv('test_Q.csv')\n",
        "\n",
        "print('Train shape: {0}'.format(train.shape))\n",
        "print('Test shape: {0}'.format(test.shape))"
      ],
      "execution_count": 16,
      "outputs": [
        {
          "output_type": "stream",
          "text": [
            "Train shape: (86821, 3)\n",
            "Test shape: (11873, 2)\n"
          ],
          "name": "stdout"
        }
      ]
    },
    {
      "metadata": {
        "id": "fu6HsKm5zWi5",
        "colab_type": "code",
        "colab": {
          "base_uri": "https://localhost:8080/",
          "height": 204
        },
        "outputId": "508338e4-3545-47c8-ffd5-ad901526e244"
      },
      "cell_type": "code",
      "source": [
        "train.head()"
      ],
      "execution_count": 17,
      "outputs": [
        {
          "output_type": "execute_result",
          "data": {
            "text/html": [
              "<div>\n",
              "<style scoped>\n",
              "    .dataframe tbody tr th:only-of-type {\n",
              "        vertical-align: middle;\n",
              "    }\n",
              "\n",
              "    .dataframe tbody tr th {\n",
              "        vertical-align: top;\n",
              "    }\n",
              "\n",
              "    .dataframe thead th {\n",
              "        text-align: right;\n",
              "    }\n",
              "</style>\n",
              "<table border=\"1\" class=\"dataframe\">\n",
              "  <thead>\n",
              "    <tr style=\"text-align: right;\">\n",
              "      <th></th>\n",
              "      <th>id</th>\n",
              "      <th>question</th>\n",
              "      <th>answer</th>\n",
              "    </tr>\n",
              "  </thead>\n",
              "  <tbody>\n",
              "    <tr>\n",
              "      <th>0</th>\n",
              "      <td>56be85543aeaaa14008c9063</td>\n",
              "      <td>When did Beyonce start becoming popular?</td>\n",
              "      <td>in the late 1990s</td>\n",
              "    </tr>\n",
              "    <tr>\n",
              "      <th>1</th>\n",
              "      <td>56be85543aeaaa14008c9065</td>\n",
              "      <td>What areas did Beyonce compete in when she was...</td>\n",
              "      <td>singing and dancing</td>\n",
              "    </tr>\n",
              "    <tr>\n",
              "      <th>2</th>\n",
              "      <td>56be85543aeaaa14008c9066</td>\n",
              "      <td>When did Beyonce leave Destiny's Child and bec...</td>\n",
              "      <td>2003</td>\n",
              "    </tr>\n",
              "    <tr>\n",
              "      <th>3</th>\n",
              "      <td>56bf6b0f3aeaaa14008c9601</td>\n",
              "      <td>In what city and state did Beyonce  grow up?</td>\n",
              "      <td>Houston, Texas</td>\n",
              "    </tr>\n",
              "    <tr>\n",
              "      <th>4</th>\n",
              "      <td>56bf6b0f3aeaaa14008c9602</td>\n",
              "      <td>In which decade did Beyonce become famous?</td>\n",
              "      <td>late 1990s</td>\n",
              "    </tr>\n",
              "  </tbody>\n",
              "</table>\n",
              "</div>"
            ],
            "text/plain": [
              "                         id  \\\n",
              "0  56be85543aeaaa14008c9063   \n",
              "1  56be85543aeaaa14008c9065   \n",
              "2  56be85543aeaaa14008c9066   \n",
              "3  56bf6b0f3aeaaa14008c9601   \n",
              "4  56bf6b0f3aeaaa14008c9602   \n",
              "\n",
              "                                            question               answer  \n",
              "0           When did Beyonce start becoming popular?    in the late 1990s  \n",
              "1  What areas did Beyonce compete in when she was...  singing and dancing  \n",
              "2  When did Beyonce leave Destiny's Child and bec...                 2003  \n",
              "3      In what city and state did Beyonce  grow up?        Houston, Texas  \n",
              "4         In which decade did Beyonce become famous?           late 1990s  "
            ]
          },
          "metadata": {
            "tags": []
          },
          "execution_count": 17
        }
      ]
    },
    {
      "metadata": {
        "id": "bxh7VZd7w34l",
        "colab_type": "code",
        "colab": {
          "base_uri": "https://localhost:8080/",
          "height": 173
        },
        "outputId": "c17eb5b6-5b96-44a9-d7e5-0e7b71ceacd3"
      },
      "cell_type": "code",
      "source": [
        "train.describe()"
      ],
      "execution_count": 18,
      "outputs": [
        {
          "output_type": "execute_result",
          "data": {
            "text/html": [
              "<div>\n",
              "<style scoped>\n",
              "    .dataframe tbody tr th:only-of-type {\n",
              "        vertical-align: middle;\n",
              "    }\n",
              "\n",
              "    .dataframe tbody tr th {\n",
              "        vertical-align: top;\n",
              "    }\n",
              "\n",
              "    .dataframe thead th {\n",
              "        text-align: right;\n",
              "    }\n",
              "</style>\n",
              "<table border=\"1\" class=\"dataframe\">\n",
              "  <thead>\n",
              "    <tr style=\"text-align: right;\">\n",
              "      <th></th>\n",
              "      <th>id</th>\n",
              "      <th>question</th>\n",
              "      <th>answer</th>\n",
              "    </tr>\n",
              "  </thead>\n",
              "  <tbody>\n",
              "    <tr>\n",
              "      <th>count</th>\n",
              "      <td>86821</td>\n",
              "      <td>86821</td>\n",
              "      <td>86821</td>\n",
              "    </tr>\n",
              "    <tr>\n",
              "      <th>unique</th>\n",
              "      <td>86821</td>\n",
              "      <td>86769</td>\n",
              "      <td>64763</td>\n",
              "    </tr>\n",
              "    <tr>\n",
              "      <th>top</th>\n",
              "      <td>572fa66704bcaa1900d76b3a</td>\n",
              "      <td>What year did Prince Albert die?</td>\n",
              "      <td>three</td>\n",
              "    </tr>\n",
              "    <tr>\n",
              "      <th>freq</th>\n",
              "      <td>1</td>\n",
              "      <td>2</td>\n",
              "      <td>231</td>\n",
              "    </tr>\n",
              "  </tbody>\n",
              "</table>\n",
              "</div>"
            ],
            "text/plain": [
              "                              id                          question answer\n",
              "count                      86821                             86821  86821\n",
              "unique                     86821                             86769  64763\n",
              "top     572fa66704bcaa1900d76b3a  What year did Prince Albert die?  three\n",
              "freq                           1                                 2    231"
            ]
          },
          "metadata": {
            "tags": []
          },
          "execution_count": 18
        }
      ]
    },
    {
      "metadata": {
        "id": "3rG5hv1Kzg8i",
        "colab_type": "text"
      },
      "cell_type": "markdown",
      "source": [
        "Al parecer el primer problema que observamos es que para preguntas cuya respuesta es cuantitativa, la respuesta dada es expresada en algunos casos en palabras y en otros en números, nuestro primer intento de solucionar esto será explorar si se cumplen patrones para cada tipo de respuesta, por ejemplo, solo las fechas se responden con números u otra regla similar.\n"
      ]
    },
    {
      "metadata": {
        "id": "pVnKEusYw31f",
        "colab_type": "code",
        "colab": {
          "base_uri": "https://localhost:8080/",
          "height": 173
        },
        "outputId": "5d05e825-14bf-45ed-86db-b4c4978c83d4"
      },
      "cell_type": "code",
      "source": [
        "test.describe()"
      ],
      "execution_count": 19,
      "outputs": [
        {
          "output_type": "execute_result",
          "data": {
            "text/html": [
              "<div>\n",
              "<style scoped>\n",
              "    .dataframe tbody tr th:only-of-type {\n",
              "        vertical-align: middle;\n",
              "    }\n",
              "\n",
              "    .dataframe tbody tr th {\n",
              "        vertical-align: top;\n",
              "    }\n",
              "\n",
              "    .dataframe thead th {\n",
              "        text-align: right;\n",
              "    }\n",
              "</style>\n",
              "<table border=\"1\" class=\"dataframe\">\n",
              "  <thead>\n",
              "    <tr style=\"text-align: right;\">\n",
              "      <th></th>\n",
              "      <th>id</th>\n",
              "      <th>question</th>\n",
              "    </tr>\n",
              "  </thead>\n",
              "  <tbody>\n",
              "    <tr>\n",
              "      <th>count</th>\n",
              "      <td>11873</td>\n",
              "      <td>11873</td>\n",
              "    </tr>\n",
              "    <tr>\n",
              "      <th>unique</th>\n",
              "      <td>11873</td>\n",
              "      <td>11864</td>\n",
              "    </tr>\n",
              "    <tr>\n",
              "      <th>top</th>\n",
              "      <td>5ad5316b5b96ef001a10ab76</td>\n",
              "      <td>Who designed Salamanca?</td>\n",
              "    </tr>\n",
              "    <tr>\n",
              "      <th>freq</th>\n",
              "      <td>1</td>\n",
              "      <td>2</td>\n",
              "    </tr>\n",
              "  </tbody>\n",
              "</table>\n",
              "</div>"
            ],
            "text/plain": [
              "                              id                 question\n",
              "count                      11873                    11873\n",
              "unique                     11873                    11864\n",
              "top     5ad5316b5b96ef001a10ab76  Who designed Salamanca?\n",
              "freq                           1                        2"
            ]
          },
          "metadata": {
            "tags": []
          },
          "execution_count": 19
        }
      ]
    },
    {
      "metadata": {
        "id": "4tkbfa8izgFj",
        "colab_type": "text"
      },
      "cell_type": "markdown",
      "source": [
        "Se observa algo interesante analizando la cantidad de valores únicos y de conteo de las columnas `question` y  `answer`: La cantidad de ocurrencias únicas no es igual a la cantidad de registros totales, lo que puede indicar que quizás hay preguntas/respuestas repetidas en el dataset. Se observa un comportamiento similar en el conjunto de test aunque en mucho menor medida"
      ]
    },
    {
      "metadata": {
        "id": "MUg026sAzgIP",
        "colab_type": "code",
        "colab": {
          "base_uri": "https://localhost:8080/",
          "height": 782
        },
        "outputId": "feb28158-58b8-4f3b-c0b1-be1dba66b0b1"
      },
      "cell_type": "code",
      "source": [
        "print('10 preguntas más populares:\\n')\n",
        "print(train[\"question\"].value_counts().head(10))\n",
        "print('\\n ----------------------------------------------------------\\n')\n",
        "print('10 respuestas más populares:\\n')\n",
        "print(train[\"answer\"].value_counts().head(10))\n",
        "print('\\n ----------------------------------------------------------\\n')\n",
        "print('10 preguntas más populares (Conjunto de test):\\n')\n",
        "print(test[\"question\"].value_counts().head(10))\n",
        "\n",
        "\n",
        "\n",
        "\n"
      ],
      "execution_count": 20,
      "outputs": [
        {
          "output_type": "stream",
          "text": [
            "10 preguntas más populares:\n",
            "\n",
            "What year did Prince Albert die?                                2\n",
            "When did Beyonce have her first child?                          2\n",
            "Who sponsors the Premier League?                                2\n",
            "What does DRM stand for?                                        2\n",
            "What does CD stand for?                                         2\n",
            "Who was Alexander Scriabin's teacher?                           2\n",
            "How many children did Queen Victoria and Prince Albert have?    2\n",
            "What was the name of Liszt's mistress?                          2\n",
            "What year did Chopin leave Warsaw?                              2\n",
            "What years did the civil war take place?                        2\n",
            "Name: question, dtype: int64\n",
            "\n",
            " ----------------------------------------------------------\n",
            "\n",
            "10 respuestas más populares:\n",
            "\n",
            "three    231\n",
            "two      206\n",
            "four     171\n",
            "five     133\n",
            "six       90\n",
            "2007      87\n",
            "2006      85\n",
            "2010      75\n",
            "2009      71\n",
            "seven     71\n",
            "Name: answer, dtype: int64\n",
            "\n",
            " ----------------------------------------------------------\n",
            "\n",
            "10 preguntas más populares (Conjunto de test):\n",
            "\n",
            "Who designed Salamanca?                                  2\n",
            "What is the CJEU's duty?                                 2\n",
            "What are the main sources of primary law?                2\n",
            "In what sector are jobs beginning to decrease?           2\n",
            "In what sector are jobs beginning to increase?           2\n",
            "When was James Hutton born?                              2\n",
            "Where does heat rejection occur in the Rankine cycle?    2\n",
            "What is the population of Los Angeles?                   2\n",
            "Who conceptualized the piston?                           2\n",
            "What does the TEU not do?                                1\n",
            "Name: question, dtype: int64\n"
          ],
          "name": "stdout"
        }
      ]
    },
    {
      "metadata": {
        "id": "Qx826njWzgKh",
        "colab_type": "text"
      },
      "cell_type": "markdown",
      "source": [
        "Las preguntas que más se repiten lo hacen a lo más 2 veces cada una. En cuanto a las respuestas, predominan aquellas que son números escritos como palabras, asi como también números escritos como tal los cuales aprecen ser fechas debido a la cantidad de dígitos y la magnitud que presentan.\n",
        "\n",
        "Lo anterior puede ser en respuesta a un sesgo en la selección de preguntas.\n",
        "\n",
        "Finalmente, se debe notar que el conjunto de test está compuesto solo por preguntas, lo que significa que, de utilizar los conjuntos de la forma en la que están, tendremos un entrenamiento supervisado pero tendremos que encontrar una métrica nueva para evaluar el desempeño final de la máquina.\n",
        "\n",
        "## b) Preprocesamiento\n",
        "\n",
        "Ahora se procederá a preprocesar ambos conjuntos con el objetivo de mejorar el desempeño que tenga la futura máquina al ingerirlos en el entrenamiento.\n",
        "Se _tokenizarán_ las preguntas y respuestas del conjunto de entrenamiento y de test, no realizando mayor modificación de las palabras dado que después necesitaremos reconstruir las oraciones."
      ]
    },
    {
      "metadata": {
        "id": "MnaFR0FIw3yF",
        "colab_type": "code",
        "colab": {}
      },
      "cell_type": "code",
      "source": [
        "train_questions = [word_tokenize(sentence.lower()) for sentence in train[\"question\"]] #or processing\n",
        "test_questions = [word_tokenize(sentence.lower()) for sentence in  test[\"question\"]]\n",
        "train_answers = [word_tokenize(sentence) for sentence in train[\"answer\"]]\n"
      ],
      "execution_count": 0,
      "outputs": []
    },
    {
      "metadata": {
        "id": "bSPwafIP39XZ",
        "colab_type": "text"
      },
      "cell_type": "markdown",
      "source": [
        "## c) Vocabulario\n",
        "\n",
        "Ahora, se procede a crear un vocabulario para codificar las palabras en las respuestas a generar, esta aproximación nos servirá para paliar el problema mencionado en el punto *a)*, de que no tenemos las respuestas correctas para el conjunto de test."
      ]
    },
    {
      "metadata": {
        "id": "5j3u0M6n39aE",
        "colab_type": "code",
        "colab": {
          "base_uri": "https://localhost:8080/",
          "height": 85
        },
        "outputId": "57507288-8543-4136-e496-7f03a7cc4a0e"
      },
      "cell_type": "code",
      "source": [
        "# Respuestas\n",
        "vocab_answer = set()\n",
        "for sentence in train_answers:\n",
        "  for word in sentence:\n",
        "    vocab_answer.add(word)\n",
        "vocab_answer = [\"#end\"] + list(vocab_answer)\n",
        "print('Posibles palabras para respuestas: ', len(vocab_answer))\n",
        "vocabA_indices = {c: i for i, c in enumerate(vocab_answer)}\n",
        "indices_vocabA = {c: i for i, c in enumerate(vocab_answer)}\n",
        "\n",
        "# Preguntas: Train\n",
        "vocab_question = set()\n",
        "for sentence in train_questions:\n",
        "  for word in sentence:\n",
        "    vocab_question.add(word)\n",
        "vocab_question = [\"#end\"] + list(vocab_question)\n",
        "print('Posibles palabras para preguntas (train): ', len(vocab_question))\n",
        "vocabQTrain_indices = {c: i for i, c in enumerate(vocab_question)}\n",
        "indices_vocabQTrain = {c: i for i, c in enumerate(vocab_question)}\n",
        "\n",
        "print('Diferencia en la cantidad de palabras que componen las preguntas y respuestas (train sets): ', \n",
        "      abs(len(vocab_answer) - len(vocab_question)))\n",
        "\n",
        "# Preguntas: Test\n",
        "vocab_question = set()\n",
        "for sentence in test_questions:\n",
        "  for word in sentence:\n",
        "    vocab_question.add(word)\n",
        "vocab_question = [\"#end\"] + list(vocab_question)\n",
        "print('Posibles palabras para preguntas (test): ', len(vocab_question))\n",
        "vocabQTest_indices = {c: i for i, c in enumerate(vocab_question)}\n",
        "indices_vocabQTest = {c: i for i, c in enumerate(vocab_question)}\n",
        "\n"
      ],
      "execution_count": 35,
      "outputs": [
        {
          "output_type": "stream",
          "text": [
            "Posibles palabras para respuestas:  47423\n",
            "Posibles palabras para preguntas (train):  39482\n",
            "Diferencia en la cantidad de palabras que componen las preguntas y respuestas (train sets):  7941\n",
            "Posibles palabras para preguntas (test):  10322\n"
          ],
          "name": "stdout"
        }
      ]
    },
    {
      "metadata": {
        "id": "a32CLkBA39cc",
        "colab_type": "text"
      },
      "cell_type": "markdown",
      "source": [
        "El vocabulario de palabras que componen las respuestas tiene _7941_ elementos más que el que compone las preguntas, esto puede hacer que hayan palabras encontradas en preguntas asociadas a varias palabras de respuesta, haciendo más dificil el discernir la respuesta correcta. Por otro lado, se debe notar la pequeña cantidad de palabras que componen el vocabulario de test."
      ]
    },
    {
      "metadata": {
        "id": "g5mWynT339fD",
        "colab_type": "text"
      },
      "cell_type": "markdown",
      "source": [
        "## d) Codificación de tokens y padding\n",
        "\n",
        "Aplicaremos una codificación tipo *one-hot vector* sobre los tokens, calcularemos el largo máximo que puede tener una respuesta y una pregunta y reformularemos las secuencias de entrada del modelo agregandoles un padding al final, esto hará que el tamaño de input sea constante. Para las preguntas se rellenará con '0' (recordar que las palabras estan indexadas y tokenizadas), mientras que para las respuestas se rellenará con el carácter definido *'#end'* que indica cuando la pregunta ha sido respondida.\n",
        "\n"
      ]
    },
    {
      "metadata": {
        "id": "gWfUQCX139jE",
        "colab_type": "code",
        "colab": {}
      },
      "cell_type": "code",
      "source": [
        "# input and output to onehotvector\n",
        "X_answers = [[vocabA_indices[palabra] for palabra in sentence] for sentence in train_answers]\n",
        "X_test_Q = [[vocabQTest_indices[palabra] for palabra in sentence] for sentence in test_questions]\n",
        "X_train_Q = [[vocabQTrain_indices[palabra] for palabra in sentence] for sentence in train_questions]\n",
        "\n",
        "# padding\n",
        "max_input_lenght = np.max(list(map(len, train_questions)))\n",
        "max_output_lenght = np.max(list(map(len, train_answers)))\n",
        "\n",
        "X_train_Q = sequence.pad_sequences(X_train_Q, maxlen = max_input_lenght,\n",
        "                                        padding = 'post', value = 0)\n",
        "X_test_Q = sequence.pad_sequences(X_test_Q, maxlen = max_input_lenght,\n",
        "                                        padding = 'post', value = 0)\n",
        "X_answers = sequence.pad_sequences(X_answers, maxlen = max_output_lenght,\n",
        "                                        padding = 'post', value = vocabA_indices['#end'])"
      ],
      "execution_count": 0,
      "outputs": []
    },
    {
      "metadata": {
        "id": "Y985lm4O39lm",
        "colab_type": "text"
      },
      "cell_type": "markdown",
      "source": [
        "## e) Modelo *Encoder-Decoder* con módulos de atención"
      ]
    },
    {
      "metadata": {
        "id": "x6DiPDzP39oE",
        "colab_type": "code",
        "colab": {}
      },
      "cell_type": "code",
      "source": [
        "# Encoder-Decoder modelo\n",
        "lenght_output = max_output_lenght\n",
        "hidden_dim = 128\n",
        "\n"
      ],
      "execution_count": 0,
      "outputs": []
    },
    {
      "metadata": {
        "id": "_t_mw8tR39qx",
        "colab_type": "code",
        "colab": {}
      },
      "cell_type": "code",
      "source": [
        ""
      ],
      "execution_count": 0,
      "outputs": []
    },
    {
      "metadata": {
        "id": "fhK96YZB39hg",
        "colab_type": "code",
        "colab": {}
      },
      "cell_type": "code",
      "source": [
        ""
      ],
      "execution_count": 0,
      "outputs": []
    }
  ]
}